{
 "cells": [
  {
   "cell_type": "code",
   "execution_count": 1,
   "id": "71b76b9e",
   "metadata": {},
   "outputs": [],
   "source": [
    "import numpy as np \n",
    "import cv2\n",
    "import dlib \n",
    "from imutils import face_utils"
   ]
  },
  {
   "cell_type": "code",
   "execution_count": 2,
   "id": "2aeaf7af",
   "metadata": {},
   "outputs": [],
   "source": [
    "img = cv2.imread('./images/ronaldo.jpg')\n",
    "cv2.imshow('image',img)\n",
    "cv2.waitKey(0)\n",
    "cv2.destroyAllWindows()"
   ]
  },
  {
   "cell_type": "code",
   "execution_count": 4,
   "id": "75b151ea",
   "metadata": {},
   "outputs": [],
   "source": [
    "#load the model \n",
    "net = cv2.dnn.readNetFromCaffe('./models/deploy.prototxt.txt','./models/res10_300x300_ssd_iter_140000_fp16 (2).caffemodel')"
   ]
  },
  {
   "cell_type": "code",
   "execution_count": 6,
   "id": "0598a675",
   "metadata": {},
   "outputs": [],
   "source": [
    "#extract blob\n",
    "blob = cv2.dnn.blobFromImage(img,1,(300,300),(104,177,123),swapRB=False)"
   ]
  },
  {
   "cell_type": "code",
   "execution_count": 7,
   "id": "aff5841a",
   "metadata": {},
   "outputs": [
    {
     "name": "stdout",
     "output_type": "stream",
     "text": [
      "(1, 1, 200, 7)\n"
     ]
    }
   ],
   "source": [
    "net.setInput(blob)\n",
    "dectections = net.forward()\n",
    "print(dectections.shape)"
   ]
  },
  {
   "cell_type": "code",
   "execution_count": 8,
   "id": "216840f2",
   "metadata": {},
   "outputs": [],
   "source": [
    "#now printing the confidence score\n",
    "h,w = img.shape[:2]\n",
    "for i in range(0,dectections.shape[2]):\n",
    "    confidence = dectections[0,0,i,2]\n",
    "    if confidence>0.3:\n",
    "        box = dectections[0,0,i,3:7]\n",
    "        box = box *np.array([w,h,w,h])\n",
    "        box = box.astype('int')\n",
    "        sx,sy,ex,ey = box\n",
    "        text = f\"Face {confidence*100:.2f}%\"\n",
    "        cv2.rectangle(img,(sx,sy),(ex,ey),(0,255,0),2)\n",
    "        cv2.putText(img,text,(sx,sy-10),cv2.FONT_HERSHEY_SIMPLEX,0.6,(255,0,0),2)\n",
    "        \n",
    "cv2.imshow('image',img)\n",
    "cv2.waitKey(0)\n",
    "cv2.destroyAllWindows()"
   ]
  },
  {
   "cell_type": "code",
   "execution_count": null,
   "id": "d2acf3bc",
   "metadata": {},
   "outputs": [],
   "source": [
    "# implmenting face shape and descriptor modesl\n",
    "\n"
   ]
  }
 ],
 "metadata": {
  "kernelspec": {
   "display_name": "venv",
   "language": "python",
   "name": "python3"
  },
  "language_info": {
   "codemirror_mode": {
    "name": "ipython",
    "version": 3
   },
   "file_extension": ".py",
   "mimetype": "text/x-python",
   "name": "python",
   "nbconvert_exporter": "python",
   "pygments_lexer": "ipython3",
   "version": "3.9.13"
  }
 },
 "nbformat": 4,
 "nbformat_minor": 5
}
